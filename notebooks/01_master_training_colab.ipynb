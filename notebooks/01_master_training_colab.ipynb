{
 "cells": [
  {
   "cell_type": "markdown",
   "metadata": {},
   "source": [
    "# Plant Disease Detection - Complete Model Training & Evaluation\n",
    "\n",
    "This notebook trains all models (CNN, ViT, and Hybrid) and provides comprehensive results comparison."
   ]
  },
  {
   "cell_type": "markdown",
   "metadata": {},
   "source": [
    "## 1. Setup Environment"
   ]
  },
  {
   "cell_type": "code",
   "execution_count": null,
   "metadata": {},
   "outputs": [],
   "source": [
    "# Check GPU\n",
    "import torch\n",
    "print(f\"CUDA available: {torch.cuda.is_available()}\")\n",
    "if torch.cuda.is_available():\n",
    "    print(f\"GPU: {torch.cuda.get_device_name(0)}\")\n",
    "    print(f\"Memory: {torch.cuda.get_device_properties(0).total_memory / 1e9:.1f} GB\")\n",
    "else:\n",
    "    print(\"⚠️  WARNING: No GPU detected. Training will be very slow.\")"
   ]
  },
  {
   "cell_type": "code",
   "execution_count": null,
   "metadata": {},
   "outputs": [],
   "source": [
    "# Clone repository if not already done\n",
    "import os\n",
    "if not os.path.exists('VIT-PLANT-VILLAGE'):\n",
    "    !git clone https://github.com/Lexo7/VIT-PLANT-VILLAGE.git\n",
    "    %cd VIT-PLANT-VILLAGE\n",
    "else:\n",
    "    %cd VIT-PLANT-VILLAGE"
   ]
  },
  {
   "cell_type": "code",
   "execution_count": null,
   "metadata": {},
   "outputs": [],
   "source": [
    "# Install dependencies\n",
    "!pip install -r requirements.txt\n",
    "!pip install -e ."
   ]
  },
  {
   "cell_type": "markdown",
   "metadata": {},
   "source": [
    "## 2. Download and Prepare Dataset"
   ]
  },
  {
   "cell_type": "code",
   "execution_count": null,
   "metadata": {},
   "outputs": [],
   "source": [
    "# Download PlantVillage dataset\n",
    "import os\n",
    "from google.colab import files\n",
    "\n",
    "# Method 1: Use Kaggle API (upload kaggle.json first)\n",
    "print(\"📁 Please upload your kaggle.json file when prompted...\")\n",
    "uploaded = files.upload()\n",
    "\n",
    "# Setup Kaggle\n",
    "!mkdir -p ~/.kaggle\n",
    "!cp kaggle.json ~/.kaggle/\n",
    "!chmod 600 ~/.kaggle/kaggle.json\n",
    "\n",
    "# Download dataset\n",
    "!kaggle datasets download -d vipoooool/new-plant-diseases-dataset\n",
    "!unzip -q new-plant-diseases-dataset.zip -d data/plant_village/raw/"
   ]
  },
  {
   "cell_type": "code",
   "execution_count": null,
   "metadata": {},
   "outputs": [],
   "source": [
    "# Alternative method: Manual upload if Kaggle doesn't work\n",
    "# Uncomment if you want to upload dataset manually\n",
    "# print(\"📁 Upload your dataset zip file...\")\n",
    "# uploaded = files.upload()\n",
    "# !unzip -q *.zip -d data/plant_village/raw/"
   ]
  },
  {
   "cell_type": "code",
   "execution_count": null,
   "metadata": {},
   "outputs": [],
   "source": [
    "# Preprocess data\n",
    "!python data/data_preprocessing.py"
   ]
  },
  {
   "cell_type": "markdown",
   "metadata": {},
   "source": [
    "## 3. Training Configuration"
   ]
  },
  {
   "cell_type": "code",
   "execution_count": null,
   "metadata": {},
   "outputs": [],
   "source": [
    "# Training parameters\n",
    "EPOCHS = 50  # Adjust based on your needs\n",
    "BATCH_SIZE = 16  # Adjust based on GPU memory\n",
    "IMAGE_SIZE = 224\n",
    "LEARNING_RATE = 0.001\n",
    "\n",
    "# Create results directory\n",
    "!mkdir -p results/model_weights\n",
    "!mkdir -p results/logs\n",
    "!mkdir -p results/evaluation\n",
    "\n",
    "print(f\"Training configuration:\")\n",
    "print(f\"  Epochs: {EPOCHS}\")\n",
    "print(f\"  Batch size: {BATCH_SIZE}\")\n",
    "print(f\"  Image size: {IMAGE_SIZE}\")\n",
    "print(f\"  Learning rate: {LEARNING_RATE}\")"
   ]
  },
  {
   "cell_type": "markdown",
   "metadata": {},
   "source": [
    "## 4. Train CNN Models"
   ]
  },
  {
   "cell_type": "code",
   "execution_count": null,
   "metadata": {},
   "outputs": [],
   "source": [
    "# Train ResNet50\n",
    "print(\"🚀 Training ResNet50...\")\n",
    "!python training/train_cnn.py \\\n",
    "    --model resnet50 \\\n",
    "    --epochs {EPOCHS} \\\n",
    "    --batch_size {BATCH_SIZE} \\\n",
    "    --lr {LEARNING_RATE} \\\n",
    "    --image_size {IMAGE_SIZE}"
   ]
  },
  {
   "cell_type": "code",
   "execution_count": null,
   "metadata": {},
   "outputs": [],
   "source": [
    "# Train EfficientNet-B0\n",
    "print(\"🚀 Training EfficientNet-B0...\")\n",
    "!python training/train_cnn.py \\\n",
    "    --model efficientnet_b0 \\\n",
    "    --epochs {EPOCHS} \\\n",
    "    --batch_size {BATCH_SIZE} \\\n",
    "    --lr {LEARNING_RATE} \\\n",
    "    --image_size {IMAGE_SIZE}"
   ]
  },
  {
   "cell_type": "markdown",
   "metadata": {},
   "source": [
    "## 5. Train Vision Transformer Models"
   ]
  },
  {
   "cell_type": "code",
   "execution_count": null,
   "metadata": {},
   "outputs": [],
   "source": [
    "# Train ViT Base\n",
    "print(\"🚀 Training Vision Transformer Base...\")\n",
    "!python training/train_vit.py \\\n",
    "    --model vit_base_patch16_224 \\\n",
    "    --epochs {EPOCHS} \\\n",
    "    --batch_size {BATCH_SIZE} \\\n",
    "    --lr 3e-4 \\\n",
    "    --image_size {IMAGE_SIZE}"
   ]
  },
  {
   "cell_type": "code",
   "execution_count": null,
   "metadata": {},
   "outputs": [],
   "source": [
    "# Train ViT Small\n",
    "print(\"🚀 Training Vision Transformer Small...\")\n",
    "!python training/train_vit.py \\\n",
    "    --model vit_small_patch16_224 \\\n",
    "    --epochs {EPOCHS} \\\n",
    "    --batch_size {BATCH_SIZE} \\\n",
    "    --lr 3e-4 \\\n",
    "    --image_size {IMAGE_SIZE}"
   ]
  },
  {
   "cell_type": "code",
   "execution_count": null,
   "metadata": {},
   "outputs": [],
   "source": [
    "# Train Custom ViT\n",
    "print(\"🚀 Training Custom Vision Transformer...\")\n",
    "!python training/train_vit.py \\\n",
    "    --model custom_vit \\\n",
    "    --epochs {EPOCHS} \\\n",
    "    --batch_size {BATCH_SIZE} \\\n",
    "    --lr 3e-4 \\\n",
    "    --image_size {IMAGE_SIZE}"
   ]
  },
  {
   "cell_type": "markdown",
   "metadata": {},
   "source": [
    "## 6. Train Hybrid Models"
   ]
  },
  {
   "cell_type": "code",
   "execution_count": null,
   "metadata": {},
   "outputs": [],
   "source": [
    "# Train Hybrid CNN-ViT\n",
    "print(\"🚀 Training Hybrid CNN-ViT...\")\n",
    "!python training/train_hybrid.py \\\n",
    "    --model hybrid_cnn_vit \\\n",
    "    --cnn_backbone resnet50 \\\n",
    "    --vit_model vit_base_patch16_224 \\\n",
    "    --epochs {EPOCHS} \\\n",
    "    --batch_size {BATCH_SIZE} \\\n",
    "    --lr 1e-4 \\\n",
    "    --image_size {IMAGE_SIZE}"
   ]
  },
  {
   "cell_type": "code",
   "execution_count": null,
   "metadata": {},
   "outputs": [],
   "source": [
    "# Train Parallel CNN-ViT\n",
    "print(\"🚀 Training Parallel CNN-ViT...\")\n",
    "!python training/train_hybrid.py \\\n",
    "    --model parallel_cnn_vit \\\n",
    "    --cnn_backbone resnet50 \\\n",
    "    --vit_model vit_base_patch16_224 \\\n",
    "    --fusion_method concat \\\n",
    "    --epochs {EPOCHS} \\\n",
    "    --batch_size {BATCH_SIZE} \\\n",
    "    --lr 1e-4 \\\n",
    "    --image_size {IMAGE_SIZE}"
   ]
  },
  {
   "cell_type": "code",
   "execution_count": null,
   "metadata": {},
   "outputs": [],
   "source": [
    "# Train Attention-Fused CNN-ViT\n",
    "print(\"🚀 Training Attention-Fused CNN-ViT...\")\n",
    "!python training/train_hybrid.py \\\n",
    "    --model attention_fused_cnn_vit \\\n",
    "    --cnn_backbone resnet50 \\\n",
    "    --vit_model vit_base_patch16_224 \\\n",
    "    --epochs {EPOCHS} \\\n",
    "    --batch_size {BATCH_SIZE} \\\n",
    "    --lr 1e-4 \\\n",
    "    --image_size {IMAGE_SIZE}"
   ]
  },
  {
   "cell_type": "markdown",
   "metadata": {},
   "source": [
    "## 7. Evaluate All Models"
   ]
  },
  {
   "cell_type": "code",
   "execution_count": null,
   "metadata": {},
   "outputs": [],
   "source": [
    "# Evaluate all trained models\n",
    "!python evaluation/evaluate_models.py"
   ]
  },
  {
   "cell_type": "markdown",
   "metadata": {},
   "source": [
    "## 8. Visualize Results"
   ]
  },
  {
   "cell_type": "code",
   "execution_count": null,
   "metadata": {},
   "outputs": [],
   "source": [
    "# Load TensorBoard for training visualization\n",
    "%load_ext tensorboard\n",
    "%tensorboard --logdir results/logs"
   ]
  },
  {
   "cell_type": "code",
   "execution_count": null,
   "metadata": {},
   "outputs": [],
   "source": [
    "# Compare model results\n",
    "import json\n",
    "import pandas as pd\n",
    "import matplotlib.pyplot as plt\n",
    "import seaborn as sns\n",
    "import glob\n",
    "\n",
    "# Load all model results\n",
    "results = []\n",
    "result_files = glob.glob('results/evaluation/*_summary.json')\n",
    "\n",
    "for file in result_files:\n",
    "    model_name = file.split('/')[-1].replace('_summary.json', '')\n",
    "    with open(file, 'r') as f:\n",
    "        data = json.load(f)\n",
    "        data['model'] = model_name\n",
    "        results.append(data)\n",
    "\n",
    "# Create results DataFrame\n",
    "df_results = pd.DataFrame(results)\n",
    "df_results = df_results.sort_values('accuracy', ascending=False)\n",
    "\n",
    "print(\"📊 Model Performance Comparison:\")\n",
    "print(df_results[['model', 'accuracy', 'macro_avg_f1', 'weighted_avg_f1']].to_string(index=False))"
   ]
  },
  {
   "cell_type": "code",
   "execution_count": null,
   "metadata": {},
   "outputs": [],
   "source": [
    "# Plot model comparison\n",
    "plt.figure(figsize=(12, 8))\n",
    "\n",
    "# Accuracy comparison\n",
    "plt.subplot(2, 2, 1)\n",
    "sns.barplot(data=df_results, x='accuracy', y='model', palette='viridis')\n",
    "plt.title('Model Accuracy Comparison')\n",
    "plt.xlabel('Accuracy')\n",
    "\n",
    "# F1 Score comparison\n",
    "plt.subplot(2, 2, 2)\n",
    "sns.barplot(data=df_results, x='macro_avg_f1', y='model', palette='plasma')\n",
    "plt.title('Macro F1 Score Comparison')\n",
    "plt.xlabel('Macro F1 Score')\n",
    "\n",
    "# Weighted F1 Score comparison\n",
    "plt.subplot(2, 2, 3)\n",
    "sns.barplot(data=df_results, x='weighted_avg_f1', y='model', palette='coolwarm')\n",
    "plt.title('Weighted F1 Score Comparison')\n",
    "plt.xlabel('Weighted F1 Score')\n",
    "\n",
    "# Model type categorization\n",
    "plt.subplot(2, 2, 4)\n",
    "model_types = []\n",
    "for model in df_results['model']:\n",
    "    if 'resnet' in model or 'efficientnet' in model:\n",
    "        model_types.append('CNN')\n",
    "    elif 'vit' in model and 'hybrid' not in model and 'parallel' not in model:\n",
    "        model_types.append('ViT')\n",
    "    else:\n",
    "        model_types.append('Hybrid')\n",
    "\n",
    "df_results['model_type'] = model_types\n",
    "type_performance = df_results.groupby('model_type')['accuracy'].mean()\n",
    "sns.barplot(x=type_performance.index, y=type_performance.values, palette='Set2')\n",
    "plt.title('Average Accuracy by Model Type')\n",
    "plt.ylabel('Average Accuracy')\n",
    "\n",
    "plt.tight_layout()\n",
    "plt.savefig('results/model_comparison.png', dpi=300, bbox_inches='tight')\n",
    "plt.show()"
   ]
  },
  {
   "cell_type": "markdown",
   "metadata": {},
   "source": [
    "## 9. Generate Final Report"
   ]
  },
  {
   "cell_type": "code",
   "execution_count": null,
   "metadata": {},
   "outputs": [],
   "source": [
    "# Generate comprehensive report\n",
    "report = f\"\"\"\n",
    "# Plant Disease Detection - Final Results Report\n",
    "\n",
    "## Training Configuration\n",
    "- Epochs: {EPOCHS}\n",
    "- Batch Size: {BATCH_SIZE}\n",
    "- Image Size: {IMAGE_SIZE}x{IMAGE_SIZE}\n",
    "- Learning Rate: {LEARNING_RATE}\n",
    "\n",
    "## Model Performance Summary\n",
    "\n",
    "### Top 3 Performing Models:\n",
    "\"\"\"\n",
    "\n",
    "# Add top 3 models to report\n",
    "for i, (_, row) in enumerate(df_results.head(3).iterrows()):\n",
    "    report += f\"\"\"\n",
    "{i+1}. **{row['model']}**\n",
    "   - Accuracy: {row['accuracy']:.4f}\n",
    "   - Macro F1: {row['macro_avg_f1']:.4f}\n",
    "   - Weighted F1: {row['weighted_avg_f1']:.4f}\n",
    "\"\"\"\n",
    "\n",
    "report += f\"\"\"\n",
    "\n",
    "### Model Type Analysis:\n",
    "\"\"\"\n",
    "\n",
    "# Add model type analysis\n",
    "for model_type, avg_acc in type_performance.items():\n",
    "    report += f\"\\n- {model_type}: {avg_acc:.4f} average accuracy\"\n",
    "\n",
    "report += f\"\"\"\n",
    "\n",
    "## Conclusions\n",
    "\n",
    "Best performing model: **{df_results.iloc[0]['model']}** with {df_results.iloc[0]['accuracy']:.4f} accuracy\n",
    "\n",
    "The results show that {'Vision Transformers' if type_performance.idxmax() == 'ViT' else 'CNNs' if type_performance.idxmax() == 'CNN' else 'Hybrid models'} \n",
    "perform best on this plant disease detection task.\n",
    "\n",
    "## Files Generated\n",
    "- Model weights: `results/model_weights/`\n",
    "- Training logs: `results/logs/`\n",
    "- Evaluation results: `results/evaluation/`\n",
    "- Confusion matrices and classification reports for each model\n",
    "\"\"\"\n",
    "\n",
    "# Save report\n",
    "with open('results/final_report.md', 'w') as f:\n",
    "    f.write(report)\n",
    "\n",
    "print(report)\n",
    "print(\"\\n✅ Training and evaluation complete!\")\n",
    "print(\"📁 Check the 'results' folder for all outputs.\")"
   ]
  },
  {
   "cell_type": "code",
   "execution_count": null,
   "metadata": {},
   "outputs": [],
   "source": [
    "# Download results (optional)\n",
    "from google.colab import files\n",
    "import shutil\n",
    "\n",
    "# Create zip file with all results\n",
    "shutil.make_archive('plant_disease_results', 'zip', 'results')\n",
    "\n",
    "print(\"📦 Results packaged! Click to download:\")\n",
    "files.download('plant_disease_results.zip')"
   ]
  }
 ],
 "metadata": {
  "kernelspec": {
   "display_name": "Python 3",
   "language": "python",
   "name": "python3"
  },
  "language_info": {
   "codemirror_mode": {
    "name": "ipython",
    "version": 3
   },
   "file_extension": ".py",
   "mimetype": "text/x-python",
   "name": "python",
   "nbconvert_exporter": "python",
   "pygments_lexer": "ipython3",
   "version": "3.8.10"
  }
 },
 "nbformat": 4,
 "nbformat_minor": 4
}
